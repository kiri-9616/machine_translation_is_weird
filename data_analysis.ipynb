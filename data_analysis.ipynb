{
 "cells": [
  {
   "cell_type": "code",
   "execution_count": 2,
   "metadata": {},
   "outputs": [],
   "source": [
    "#データへのパス\n",
    "data_path1 = \"../data/machina/\"\n",
    "data_path2 = \"../data/machina2/\"\n",
    "\n",
    "#フォルダデータの読み込み\n",
    "import glob\n",
    "import pandas as pd\n",
    "\n",
    "#データをDataframeに整形し読み込む\n",
    "def open_data(data_path):\n",
    "    all_files = glob.glob(data_path+\"*.csv\")\n",
    "    #print(all_files[15])\n",
    "\n",
    "    mylist = []\n",
    "\n",
    "    for file in all_files:\n",
    "        df = pd.read_csv(file)\n",
    "        #print(df)\n",
    "        mylist.append(df)\n",
    "\n",
    "    #frame = pd.concat(mylist, axis=0, ignore_index=True)\n",
    "\n",
    "    return mylist"
   ]
  },
  {
   "cell_type": "code",
   "execution_count": 3,
   "metadata": {},
   "outputs": [],
   "source": [
    "#データの読み込み\n",
    "data1 = open_data(data_path1)\n",
    "data2 = open_data(data_path2)\n",
    "\n",
    "#print(data1)\n",
    "#print(data2)\n"
   ]
  },
  {
   "cell_type": "code",
   "execution_count": 4,
   "metadata": {},
   "outputs": [
    {
     "name": "stdout",
     "output_type": "stream",
     "text": [
      "348\n",
      "294\n"
     ]
    }
   ],
   "source": [
    "#data1の分析\n",
    "\"\"\"各文章の正答率\"\"\"\n",
    "\n",
    "print(len(data1))\n",
    "\n",
    "del_idx = []\n",
    "\n",
    "#不真面目なデータの消去\n",
    "for idx,each_df in enumerate(data1):\n",
    "    #データ消去のフラグ\n",
    "    flag = False\n",
    "\n",
    "    #print(len(each_df))\n",
    "\n",
    "    #データ件数が66件以上なら\n",
    "    if len(each_df) >= 65:\n",
    "\n",
    "        #右左の確認問題の行の抽出\n",
    "        confirm_left = each_df[each_df[\"category\"] == \"botton_left\"][\"response\"]\n",
    "        confirm_right = each_df[each_df[\"category\"] == \"botton_right\"][\"response\"]\n",
    "        \n",
    "        #print(confirm_left.iloc[-1] == \"0\")\n",
    "\n",
    "        #右左問題が正しくないならflagをオンに\n",
    "        if confirm_left.iloc[-1] != \"0\" or confirm_right.iloc[-1] != \"1\":\n",
    "            flag = True\n",
    "            \n",
    "    else:\n",
    "        #データ件数が不正ならflagをオンに\n",
    "        flag = True\n",
    "\n",
    "    #フラグがオンならデータを消去用リストにそのデータのインデックスを保存\n",
    "    if flag:\n",
    "        # print(\"left : {0}\".format(confirm_left.iloc[-1]))\n",
    "        # print(\"right : {0}\".format(confirm_right.iloc[-1]))\n",
    "        # print(\"len : {0}\".format(len(each_df)))\n",
    "        # print(\"\\n\")\n",
    "\n",
    "        del_idx.append(idx)\n",
    "\n",
    "    #print(flag)\n",
    "\n",
    "#データを消去\n",
    "data1 = [df for i,df in enumerate(data1) if i not in del_idx]\n",
    "\n",
    "\n",
    "print(len(data1))\n",
    "\n",
    "\n",
    "\n"
   ]
  },
  {
   "cell_type": "code",
   "execution_count": 5,
   "metadata": {},
   "outputs": [
    {
     "name": "stdout",
     "output_type": "stream",
     "text": [
      "{'botton_original0': 190, 'botton_original1': 200, 'botton_original10': 104, 'botton_original11': 65, 'botton_original12': 73, 'botton_original13': 261, 'botton_original14': 262, 'botton_original2': 256, 'botton_original3': 213, 'botton_original4': 273, 'botton_original5': 179, 'botton_original6': 198, 'botton_original7': 210, 'botton_original8': 130, 'botton_original9': 243, 'botton_translated0': 81, 'botton_translated1': 76, 'botton_translated10': 231, 'botton_translated11': 129, 'botton_translated12': 177, 'botton_translated13': 41, 'botton_translated14': 160, 'botton_translated2': 25, 'botton_translated3': 38, 'botton_translated4': 33, 'botton_translated5': 206, 'botton_translated6': 214, 'botton_translated7': 94, 'botton_translated8': 136, 'botton_translated9': 129}\n"
     ]
    }
   ],
   "source": [
    "#各文章の正答数の集計\n",
    "import math\n",
    "\n",
    "#正解数を確保する辞書\n",
    "result = {}\n",
    "\n",
    "#responseとcategoryからデータを取得\n",
    "for df in data1:\n",
    "    for row in df.itertuples():\n",
    "        category = row.category\n",
    "        response = row.response\n",
    "        \n",
    "        #categoryに入力があるものに限定\n",
    "        if type(category) is str:\n",
    "            #print(\"{0} : {1}\".format(category.strip(\"botton\"),response))\n",
    "\n",
    "            #resultに各文章の欄を追加\n",
    "            if category not in result.keys():\n",
    "                result[category] = 0\n",
    "\n",
    "            #categoryからoriginalかtranslatedかを抽出\n",
    "            if \"original\" in category:\n",
    "\n",
    "                #originalの場合、responseが０なら正解\n",
    "                if response == \"0\":\n",
    "                    result[category] += 1\n",
    "                \n",
    "            elif \"translated\" in category:\n",
    "\n",
    "                #translatedの場合、responseが1なら正解\n",
    "                if response == \"1\":\n",
    "                    result[category] += 1\n",
    "\n",
    "#不要な情報の削除\n",
    "del result[\"botton_left\"],result[\"botton_right\"]\n",
    "\n",
    "#辞書をkeyで並び替え \n",
    "result = sorted(result.items())\n",
    "result = dict((x, y) for x,y in result)\n",
    "\n",
    "print(result)\n",
    "\n",
    "\n",
    "    \n"
   ]
  },
  {
   "cell_type": "code",
   "execution_count": 12,
   "metadata": {},
   "outputs": [
    {
     "name": "stdout",
     "output_type": "stream",
     "text": [
      "{'botton_original0': 190, 'botton_original1': 200, 'botton_original10': 104, 'botton_original11': 65, 'botton_original12': 73, 'botton_original13': 261, 'botton_original14': 262, 'botton_original2': 256, 'botton_original3': 213, 'botton_original4': 273, 'botton_original5': 179, 'botton_original6': 198, 'botton_original7': 210, 'botton_original8': 130, 'botton_original9': 243, 'botton_translated0': 81, 'botton_translated1': 76, 'botton_translated10': 231, 'botton_translated11': 129, 'botton_translated12': 177, 'botton_translated13': 41, 'botton_translated14': 160, 'botton_translated2': 25, 'botton_translated3': 38, 'botton_translated4': 33, 'botton_translated5': 206, 'botton_translated6': 214, 'botton_translated7': 94, 'botton_translated8': 136, 'botton_translated9': 129}\n",
      "{'original': 2857, 'original_rate': 0.6478458049886622, 'translated': 1770, 'translated_rate': 0.4013605442176871, 'all_data': 4410}\n",
      "{'botton_original0': 0.6462585034013606, 'botton_original1': 0.6802721088435374, 'botton_original10': 0.35374149659863946, 'botton_original11': 0.22108843537414966, 'botton_original12': 0.24829931972789115, 'botton_original13': 0.8877551020408163, 'botton_original14': 0.891156462585034, 'botton_original2': 0.8707482993197279, 'botton_original3': 0.7244897959183674, 'botton_original4': 0.9285714285714286, 'botton_original5': 0.608843537414966, 'botton_original6': 0.673469387755102, 'botton_original7': 0.7142857142857143, 'botton_original8': 0.4421768707482993, 'botton_original9': 0.826530612244898, 'botton_translated0': 0.2755102040816326, 'botton_translated1': 0.2585034013605442, 'botton_translated10': 0.7857142857142857, 'botton_translated11': 0.4387755102040816, 'botton_translated12': 0.6020408163265306, 'botton_translated13': 0.13945578231292516, 'botton_translated14': 0.54421768707483, 'botton_translated2': 0.08503401360544217, 'botton_translated3': 0.1292517006802721, 'botton_translated4': 0.11224489795918367, 'botton_translated5': 0.7006802721088435, 'botton_translated6': 0.7278911564625851, 'botton_translated7': 0.3197278911564626, 'botton_translated8': 0.46258503401360546, 'botton_translated9': 0.4387755102040816}\n"
     ]
    }
   ],
   "source": [
    "#正答率の計算\n",
    "all_data_num = len(data1)\n",
    "\n",
    "#各問題の正答率\n",
    "data1_average = dict((x,y / all_data_num) for x,y in result.items())\n",
    "\n",
    "#人間と機械の正解数と正解率\n",
    "data1_sum = {\"original\":0, \"original_rate\":0 ,\"translated\":0, \"translated_rate\":0, \"all_data\":all_data_num*15}\n",
    "\n",
    "for key,val in result.items():\n",
    "    if \"original\" in key:\n",
    "        #print(key,val)\n",
    "        data1_sum[\"original\"] += val\n",
    "    elif \"translated\" in key:\n",
    "        #print(key,val)\n",
    "        data1_sum[\"translated\"] += val\n",
    "\n",
    "data1_sum[\"original_rate\"] = data1_sum[\"original\"] / data1_sum[\"all_data\"]\n",
    "data1_sum[\"translated_rate\"] = data1_sum[\"translated\"] / data1_sum[\"all_data\"]\n",
    "\n",
    "print(result)\n",
    "print(data1_sum)\n",
    "print(data1_average)"
   ]
  },
  {
   "cell_type": "code",
   "execution_count": null,
   "metadata": {},
   "outputs": [],
   "source": [
    "#data2の分析\n",
    "\"\"\"各文章の違和感の平均値\"\"\"\n",
    "##aiiueo\n",
    "\n",
    "#不真面目なデータの消去"
   ]
  }
 ],
 "metadata": {
  "kernelspec": {
   "display_name": "project_AnimeSong",
   "language": "python",
   "name": "python3"
  },
  "language_info": {
   "codemirror_mode": {
    "name": "ipython",
    "version": 3
   },
   "file_extension": ".py",
   "mimetype": "text/x-python",
   "name": "python",
   "nbconvert_exporter": "python",
   "pygments_lexer": "ipython3",
   "version": "3.8.16"
  },
  "orig_nbformat": 4
 },
 "nbformat": 4,
 "nbformat_minor": 2
}
