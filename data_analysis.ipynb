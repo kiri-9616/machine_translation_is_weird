{
 "cells": [
  {
   "cell_type": "code",
   "execution_count": 39,
   "metadata": {},
   "outputs": [],
   "source": [
    "#データへのパス\n",
    "data_path1 = \"../data/machina/\"\n",
    "data_path2 = \"../data/machina2/\"\n",
    "\n",
    "#フォルダデータの読み込み\n",
    "import glob\n",
    "import pandas as pd\n",
    "\n",
    "#データをDataframeに整形し読み込む\n",
    "def open_data(data_path):\n",
    "    all_files = glob.glob(data_path+\"*.csv\")\n",
    "    print(all_files[0])\n",
    "\n",
    "    mylist = []\n",
    "\n",
    "    for file in all_files:\n",
    "        df = pd.read_csv(file)\n",
    "        #print(df)\n",
    "        mylist.append(df)\n",
    "\n",
    "    #frame = pd.concat(mylist, axis=0, ignore_index=True)\n",
    "\n",
    "    return mylist"
   ]
  },
  {
   "cell_type": "code",
   "execution_count": 40,
   "metadata": {},
   "outputs": [
    {
     "name": "stdout",
     "output_type": "stream",
     "text": [
      "../data/machina/237.csv\n",
      "../data/machina2/223.csv\n"
     ]
    }
   ],
   "source": [
    "#データの読み込み\n",
    "data1 = open_data(data_path1)\n",
    "data2 = open_data(data_path2)\n",
    "\n",
    "#print(data1)\n",
    "#print(data2)\n"
   ]
  },
  {
   "cell_type": "code",
   "execution_count": 74,
   "metadata": {},
   "outputs": [
    {
     "ename": "TypeError",
     "evalue": "_get_value() missing 1 required positional argument: 'col'",
     "output_type": "error",
     "traceback": [
      "\u001b[0;31m---------------------------------------------------------------------------\u001b[0m",
      "\u001b[0;31mTypeError\u001b[0m                                 Traceback (most recent call last)",
      "\u001b[1;32m/Users/TakutoTadokoro/Desktop/M1/講義/認知科学特論/program/data_analysis.ipynb セル 3\u001b[0m in \u001b[0;36m<cell line: 5>\u001b[0;34m()\u001b[0m\n\u001b[1;32m     <a href='vscode-notebook-cell:/Users/TakutoTadokoro/Desktop/M1/%E8%AC%9B%E7%BE%A9/%E8%AA%8D%E7%9F%A5%E7%A7%91%E5%AD%A6%E7%89%B9%E8%AB%96/program/data_analysis.ipynb#W2sZmlsZQ%3D%3D?line=12'>13</a>\u001b[0m     confirm_left \u001b[39m=\u001b[39m each_df[each_df[\u001b[39m\"\u001b[39m\u001b[39mcategory\u001b[39m\u001b[39m\"\u001b[39m] \u001b[39m==\u001b[39m \u001b[39m\"\u001b[39m\u001b[39mbotton_left\u001b[39m\u001b[39m\"\u001b[39m]\n\u001b[1;32m     <a href='vscode-notebook-cell:/Users/TakutoTadokoro/Desktop/M1/%E8%AC%9B%E7%BE%A9/%E8%AA%8D%E7%9F%A5%E7%A7%91%E5%AD%A6%E7%89%B9%E8%AB%96/program/data_analysis.ipynb#W2sZmlsZQ%3D%3D?line=13'>14</a>\u001b[0m     confirm_right \u001b[39m=\u001b[39m each_df[each_df[\u001b[39m\"\u001b[39m\u001b[39mcategory\u001b[39m\u001b[39m\"\u001b[39m] \u001b[39m==\u001b[39m \u001b[39m\"\u001b[39m\u001b[39mbotton_left\u001b[39m\u001b[39m\"\u001b[39m]\n\u001b[0;32m---> <a href='vscode-notebook-cell:/Users/TakutoTadokoro/Desktop/M1/%E8%AC%9B%E7%BE%A9/%E8%AA%8D%E7%9F%A5%E7%A7%91%E5%AD%A6%E7%89%B9%E8%AB%96/program/data_analysis.ipynb#W2sZmlsZQ%3D%3D?line=15'>16</a>\u001b[0m     \u001b[39mprint\u001b[39m(confirm_left\u001b[39m.\u001b[39;49mat[:\u001b[39m\"\u001b[39;49m\u001b[39mresponse\u001b[39;49m\u001b[39m\"\u001b[39;49m])\n\u001b[1;32m     <a href='vscode-notebook-cell:/Users/TakutoTadokoro/Desktop/M1/%E8%AC%9B%E7%BE%A9/%E8%AA%8D%E7%9F%A5%E7%A7%91%E5%AD%A6%E7%89%B9%E8%AB%96/program/data_analysis.ipynb#W2sZmlsZQ%3D%3D?line=17'>18</a>\u001b[0m     \u001b[39m#右左問題が正しくないならflagをオンに\u001b[39;00m\n\u001b[1;32m     <a href='vscode-notebook-cell:/Users/TakutoTadokoro/Desktop/M1/%E8%AC%9B%E7%BE%A9/%E8%AA%8D%E7%9F%A5%E7%A7%91%E5%AD%A6%E7%89%B9%E8%AB%96/program/data_analysis.ipynb#W2sZmlsZQ%3D%3D?line=18'>19</a>\u001b[0m     \u001b[39m# if confirm_left[\"response\"] != \"0\" or confirm_right[\"response\"] != \"1\":\u001b[39;00m\n\u001b[1;32m     <a href='vscode-notebook-cell:/Users/TakutoTadokoro/Desktop/M1/%E8%AC%9B%E7%BE%A9/%E8%AA%8D%E7%9F%A5%E7%A7%91%E5%AD%A6%E7%89%B9%E8%AB%96/program/data_analysis.ipynb#W2sZmlsZQ%3D%3D?line=19'>20</a>\u001b[0m     \u001b[39m#     flag = True\u001b[39;00m\n\u001b[1;32m     <a href='vscode-notebook-cell:/Users/TakutoTadokoro/Desktop/M1/%E8%AC%9B%E7%BE%A9/%E8%AA%8D%E7%9F%A5%E7%A7%91%E5%AD%A6%E7%89%B9%E8%AB%96/program/data_analysis.ipynb#W2sZmlsZQ%3D%3D?line=20'>21</a>\u001b[0m         \n\u001b[1;32m     <a href='vscode-notebook-cell:/Users/TakutoTadokoro/Desktop/M1/%E8%AC%9B%E7%BE%A9/%E8%AA%8D%E7%9F%A5%E7%A7%91%E5%AD%A6%E7%89%B9%E8%AB%96/program/data_analysis.ipynb#W2sZmlsZQ%3D%3D?line=21'>22</a>\u001b[0m \u001b[39melse\u001b[39;00m:\n\u001b[1;32m     <a href='vscode-notebook-cell:/Users/TakutoTadokoro/Desktop/M1/%E8%AC%9B%E7%BE%A9/%E8%AA%8D%E7%9F%A5%E7%A7%91%E5%AD%A6%E7%89%B9%E8%AB%96/program/data_analysis.ipynb#W2sZmlsZQ%3D%3D?line=22'>23</a>\u001b[0m     \u001b[39m#データ件数が不正ならflagをオンに\u001b[39;00m\n\u001b[1;32m     <a href='vscode-notebook-cell:/Users/TakutoTadokoro/Desktop/M1/%E8%AC%9B%E7%BE%A9/%E8%AA%8D%E7%9F%A5%E7%A7%91%E5%AD%A6%E7%89%B9%E8%AB%96/program/data_analysis.ipynb#W2sZmlsZQ%3D%3D?line=23'>24</a>\u001b[0m     flag \u001b[39m=\u001b[39m \u001b[39mTrue\u001b[39;00m\n",
      "File \u001b[0;32m/opt/anaconda3/envs/project_AnimeSong/lib/python3.8/site-packages/pandas/core/indexing.py:2419\u001b[0m, in \u001b[0;36m_AtIndexer.__getitem__\u001b[0;34m(self, key)\u001b[0m\n\u001b[1;32m   2416\u001b[0m         \u001b[39mraise\u001b[39;00m \u001b[39mValueError\u001b[39;00m(\u001b[39m\"\u001b[39m\u001b[39mInvalid call for scalar access (getting)!\u001b[39m\u001b[39m\"\u001b[39m)\n\u001b[1;32m   2417\u001b[0m     \u001b[39mreturn\u001b[39;00m \u001b[39mself\u001b[39m\u001b[39m.\u001b[39mobj\u001b[39m.\u001b[39mloc[key]\n\u001b[0;32m-> 2419\u001b[0m \u001b[39mreturn\u001b[39;00m \u001b[39msuper\u001b[39;49m()\u001b[39m.\u001b[39;49m\u001b[39m__getitem__\u001b[39;49m(key)\n",
      "File \u001b[0;32m/opt/anaconda3/envs/project_AnimeSong/lib/python3.8/site-packages/pandas/core/indexing.py:2371\u001b[0m, in \u001b[0;36m_ScalarAccessIndexer.__getitem__\u001b[0;34m(self, key)\u001b[0m\n\u001b[1;32m   2368\u001b[0m         \u001b[39mraise\u001b[39;00m \u001b[39mValueError\u001b[39;00m(\u001b[39m\"\u001b[39m\u001b[39mInvalid call for scalar access (getting)!\u001b[39m\u001b[39m\"\u001b[39m)\n\u001b[1;32m   2370\u001b[0m key \u001b[39m=\u001b[39m \u001b[39mself\u001b[39m\u001b[39m.\u001b[39m_convert_key(key)\n\u001b[0;32m-> 2371\u001b[0m \u001b[39mreturn\u001b[39;00m \u001b[39mself\u001b[39;49m\u001b[39m.\u001b[39;49mobj\u001b[39m.\u001b[39;49m_get_value(\u001b[39m*\u001b[39;49mkey, takeable\u001b[39m=\u001b[39;49m\u001b[39mself\u001b[39;49m\u001b[39m.\u001b[39;49m_takeable)\n",
      "\u001b[0;31mTypeError\u001b[0m: _get_value() missing 1 required positional argument: 'col'"
     ]
    }
   ],
   "source": [
    "#data1の分析\n",
    "\"\"\"各文章の正答率\"\"\"\n",
    "\n",
    "#不真面目なデータの消去\n",
    "for idx,each_df in enumerate(data1[0:2]):\n",
    "    #データ消去のフラグ\n",
    "    flag = False\n",
    "\n",
    "    #データ件数が66件以上なら\n",
    "    if len(each_df) >= 66:\n",
    "\n",
    "        #右左の確認問題の行の抽出\n",
    "        confirm_left = each_df[each_df[\"category\"] == \"botton_left\"]\n",
    "        confirm_right = each_df[each_df[\"category\"] == \"botton_left\"]\n",
    "        \n",
    "        print(confirm_left.at[:\"response\"])\n",
    "\n",
    "        #右左問題が正しくないならflagをオンに\n",
    "        # if confirm_left[\"response\"] != \"0\" or confirm_right[\"response\"] != \"1\":\n",
    "        #     flag = True\n",
    "            \n",
    "    else:\n",
    "        #データ件数が不正ならflagをオンに\n",
    "        flag = True\n",
    "    \n",
    "\n"
   ]
  },
  {
   "cell_type": "code",
   "execution_count": null,
   "metadata": {},
   "outputs": [],
   "source": [
    "#data2の分析\n",
    "\"\"\"各文章の違和感の平均値\"\"\"\n",
    "\n",
    "#不真面目なデータの消去"
   ]
  }
 ],
 "metadata": {
  "kernelspec": {
   "display_name": "project_AnimeSong",
   "language": "python",
   "name": "python3"
  },
  "language_info": {
   "codemirror_mode": {
    "name": "ipython",
    "version": 3
   },
   "file_extension": ".py",
   "mimetype": "text/x-python",
   "name": "python",
   "nbconvert_exporter": "python",
   "pygments_lexer": "ipython3",
   "version": "3.8.16"
  },
  "orig_nbformat": 4
 },
 "nbformat": 4,
 "nbformat_minor": 2
}
