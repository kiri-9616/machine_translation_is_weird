{
 "cells": [
  {
   "cell_type": "code",
   "execution_count": 44,
   "metadata": {},
   "outputs": [],
   "source": [
    "#データへのパス\n",
    "data_path1 = \"../data/machina/\"\n",
    "data_path2 = \"../data/machina2/\"\n",
    "\n",
    "#フォルダデータの読み込み\n",
    "import glob\n",
    "import pandas as pd\n",
    "\n",
    "#データをDataframeに整形し読み込む\n",
    "def open_data(data_path):\n",
    "    all_files = glob.glob(data_path+\"*.csv\")\n",
    "    #print(all_files[15])\n",
    "\n",
    "    mylist = []\n",
    "\n",
    "    for file in all_files:\n",
    "        df = pd.read_csv(file)\n",
    "        #print(df)\n",
    "        mylist.append(df)\n",
    "\n",
    "    #frame = pd.concat(mylist, axis=0, ignore_index=True)\n",
    "\n",
    "    return mylist"
   ]
  },
  {
   "cell_type": "code",
   "execution_count": 45,
   "metadata": {},
   "outputs": [],
   "source": [
    "#データの読み込み\n",
    "data1 = open_data(data_path1)\n",
    "data2 = open_data(data_path2)\n",
    "\n",
    "#print(data1)\n",
    "#print(data2)\n"
   ]
  },
  {
   "cell_type": "code",
   "execution_count": 50,
   "metadata": {},
   "outputs": [
    {
     "name": "stdout",
     "output_type": "stream",
     "text": [
      "294\n",
      "294\n"
     ]
    }
   ],
   "source": [
    "#data1の分析\n",
    "\"\"\"各文章の正答率\"\"\"\n",
    "\n",
    "print(len(data1))\n",
    "\n",
    "del_idx = []\n",
    "\n",
    "#不真面目なデータの消去\n",
    "for idx,each_df in enumerate(data1):\n",
    "    #データ消去のフラグ\n",
    "    flag = False\n",
    "\n",
    "    #print(len(each_df))\n",
    "\n",
    "    #データ件数が66件以上なら\n",
    "    if len(each_df) >= 65:\n",
    "\n",
    "        #右左の確認問題の行の抽出\n",
    "        confirm_left = each_df[each_df[\"category\"] == \"botton_left\"][\"response\"]\n",
    "        confirm_right = each_df[each_df[\"category\"] == \"botton_right\"][\"response\"]\n",
    "        \n",
    "        #print(confirm_left.iloc[-1] == \"0\")\n",
    "\n",
    "        #右左問題が正しくないならflagをオンに\n",
    "        if confirm_left.iloc[-1] != \"0\" or confirm_right.iloc[-1] != \"1\":\n",
    "            flag = True\n",
    "            \n",
    "    else:\n",
    "        #データ件数が不正ならflagをオンに\n",
    "        flag = True\n",
    "\n",
    "    #フラグがオンならデータを消去用リストにそのデータのインデックスを保存\n",
    "    if flag:\n",
    "        # print(\"left : {0}\".format(confirm_left.iloc[-1]))\n",
    "        # print(\"right : {0}\".format(confirm_right.iloc[-1]))\n",
    "        # print(\"len : {0}\".format(len(each_df)))\n",
    "        # print(\"\\n\")\n",
    "\n",
    "        del_idx.append(idx)\n",
    "\n",
    "    #print(flag)\n",
    "\n",
    "#データを消去\n",
    "data1 = [df for i,df in enumerate(data1) if i not in del_idx]\n",
    "\n",
    "\n",
    "print(len(data1))\n",
    "\n",
    "\n",
    "\n"
   ]
  },
  {
   "cell_type": "code",
   "execution_count": 93,
   "metadata": {},
   "outputs": [
    {
     "name": "stdout",
     "output_type": "stream",
     "text": [
      "{'botton_original0': 190, 'botton_original1': 200, 'botton_original10': 104, 'botton_original11': 65, 'botton_original12': 73, 'botton_original13': 261, 'botton_original14': 262, 'botton_original2': 256, 'botton_original3': 213, 'botton_original4': 273, 'botton_original5': 179, 'botton_original6': 198, 'botton_original7': 210, 'botton_original8': 130, 'botton_original9': 243, 'botton_translated0': 81, 'botton_translated1': 76, 'botton_translated10': 231, 'botton_translated11': 129, 'botton_translated12': 177, 'botton_translated13': 41, 'botton_translated14': 160, 'botton_translated2': 25, 'botton_translated3': 38, 'botton_translated4': 33, 'botton_translated5': 206, 'botton_translated6': 214, 'botton_translated7': 94, 'botton_translated8': 136, 'botton_translated9': 129}\n"
     ]
    }
   ],
   "source": [
    "#各文章の正答数の集計\n",
    "import math\n",
    "\n",
    "#正解数を確保する辞書\n",
    "result = {}\n",
    "\n",
    "#responseとcategoryからデータを取得\n",
    "for df in data1:\n",
    "    for row in df.itertuples():\n",
    "        category = row.category\n",
    "        response = row.response\n",
    "        \n",
    "        #categoryに入力があるものに限定\n",
    "        if type(category) is str:\n",
    "\n",
    "            #resultに各文章の欄を追加\n",
    "            if category not in result.keys():\n",
    "                result[category] = 0\n",
    "\n",
    "            #categoryからoriginalかtranslatedかを抽出\n",
    "            if \"original\" in category:\n",
    "\n",
    "                #originalの場合、responseが０なら正解\n",
    "                if response == \"0\":\n",
    "                    result[category] += 1\n",
    "                \n",
    "            elif \"translated\" in category:\n",
    "\n",
    "                #translatedの場合、responseが1なら正解\n",
    "                if response == \"1\":\n",
    "                    result[category] += 1\n",
    "\n",
    "#不要な情報の削除\n",
    "del result[\"botton_left\"],result[\"botton_right\"]\n",
    "\n",
    "#辞書をkeyで並び替え \n",
    "result = sorted(result.items())\n",
    "result = dict((x, y) for x,y in result)\n",
    "\n",
    "print(result)\n",
    "\n",
    "\n",
    "    \n"
   ]
  },
  {
   "cell_type": "code",
   "execution_count": null,
   "metadata": {},
   "outputs": [],
   "source": [
    "#data2の分析\n",
    "\"\"\"各文章の違和感の平均値\"\"\"\n",
    "\n",
    "#不真面目なデータの消去"
   ]
  }
 ],
 "metadata": {
  "kernelspec": {
   "display_name": "project_AnimeSong",
   "language": "python",
   "name": "python3"
  },
  "language_info": {
   "codemirror_mode": {
    "name": "ipython",
    "version": 3
   },
   "file_extension": ".py",
   "mimetype": "text/x-python",
   "name": "python",
   "nbconvert_exporter": "python",
   "pygments_lexer": "ipython3",
   "version": "3.8.16"
  },
  "orig_nbformat": 4
 },
 "nbformat": 4,
 "nbformat_minor": 2
}
